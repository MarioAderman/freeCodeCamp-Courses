{
 "cells": [
  {
   "cell_type": "code",
   "execution_count": null,
   "id": "fd66662e-e565-4f26-bd75-d476d27ecd23",
   "metadata": {},
   "outputs": [],
   "source": []
  }
 ],
 "metadata": {
  "kernelspec": {
   "display_name": "",
   "name": ""
  },
  "language_info": {
   "name": ""
  }
 },
 "nbformat": 4,
 "nbformat_minor": 5
}
