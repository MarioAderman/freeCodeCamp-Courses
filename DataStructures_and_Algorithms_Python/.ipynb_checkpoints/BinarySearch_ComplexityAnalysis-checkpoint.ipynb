{
 "cells": [
  {
   "cell_type": "markdown",
   "id": "e5278d03-20ca-460b-9ba3-b748505e004d",
   "metadata": {},
   "source": [
    "# Introduction to Binary Search and Complexity Analysis in Python"
   ]
  },
  {
   "attachments": {},
   "cell_type": "markdown",
   "id": "4fe526ff-5c92-4b69-9af1-102181af7995",
   "metadata": {},
   "source": [
    "Systematic strategy for solving problems:\n",
    " 1. State the problem clearly. Identify the input & output formats.\n",
    " 2. Come up with some examples inputs & outputs. Try to cover all edge cases.\n",
    " 3. Come up with a correct solution for the problem. State it in plain English.\n",
    " 4. Implement the solution and test it using example inputs. Fix bugs, if any.\n",
    " 5. Analyze the algorithm's complexity and identifiy inefficiencies, if any.\n",
    " 6. Apply the right technique to overcome the inefficiency. Repeat steps 3 to 6.\n",
    "\n",
    "*\"Applying the right technique\"* is where the knowledge od common data structures and algorithms comes in handy."
   ]
  },
  {
   "cell_type": "markdown",
   "id": "a098c93f-b34b-48f9-9c56-37bf1192d1a8",
   "metadata": {},
   "source": [
    "### Example of a function using systemic strategy (Guess the card Problem)"
   ]
  },
  {
   "cell_type": "code",
   "execution_count": 4,
   "id": "82e45a48-1149-4715-9678-bfa84d5f49ce",
   "metadata": {},
   "outputs": [],
   "source": [
    "def locate_card(cards, query):\n",
    "    pass"
   ]
  },
  {
   "cell_type": "code",
   "execution_count": 5,
   "id": "6d3e0691-6ff3-431e-b23d-28467be272d4",
   "metadata": {},
   "outputs": [],
   "source": [
    "cards = [13, 11, 10, 7, 4, 3, 1, 0]\n",
    "query = 7\n",
    "output = 3"
   ]
  },
  {
   "cell_type": "code",
   "execution_count": 6,
   "id": "5056f4ce-25c2-44bb-8e84-320fa3f2c9ce",
   "metadata": {},
   "outputs": [
    {
     "name": "stdout",
     "output_type": "stream",
     "text": [
      "None\n"
     ]
    }
   ],
   "source": [
    "result = locate_card(cards, query)\n",
    "print(result)"
   ]
  },
  {
   "cell_type": "code",
   "execution_count": 7,
   "id": "b1bb4d44-e085-4f07-b2bd-20d8f9266d13",
   "metadata": {},
   "outputs": [
    {
     "data": {
      "text/plain": [
       "False"
      ]
     },
     "execution_count": 7,
     "metadata": {},
     "output_type": "execute_result"
    }
   ],
   "source": [
    "result == output"
   ]
  },
  {
   "cell_type": "markdown",
   "id": "5a8598ed-3d9c-4edf-a712-5a2b93fa69d4",
   "metadata": {},
   "source": [
    "Test cases are represented as dictionaries to make it easier to test them once we wirte implement our function."
   ]
  },
  {
   "cell_type": "code",
   "execution_count": 8,
   "id": "591882f1-4007-41c0-99d0-898460a6dfaf",
   "metadata": {},
   "outputs": [],
   "source": [
    "test = {\n",
    "    'input': {\n",
    "        'cards': [13, 11, 10, 7, 4, 3, 1, 0],\n",
    "        'query': 7\n",
    "        },\n",
    "    'output': 3\n",
    "}"
   ]
  },
  {
   "cell_type": "code",
   "execution_count": 9,
   "id": "6aa65f08-389e-450e-b05d-3bb8fbc13495",
   "metadata": {},
   "outputs": [
    {
     "data": {
      "text/plain": [
       "False"
      ]
     },
     "execution_count": 9,
     "metadata": {},
     "output_type": "execute_result"
    }
   ],
   "source": [
    "locate_card(**test['input']) == test['output']\n",
    "# ** is used for unpacking dictionaries into keyword arguments"
   ]
  },
  {
   "cell_type": "code",
   "execution_count": 10,
   "id": "534f3956-9f8d-43a0-85da-fbce0a92145a",
   "metadata": {},
   "outputs": [],
   "source": [
    "tests = []\n",
    "tests.append(test)"
   ]
  },
  {
   "cell_type": "code",
   "execution_count": 11,
   "id": "6ee464c4-31ac-4c4e-bf4b-2ca0ce190c2d",
   "metadata": {},
   "outputs": [],
   "source": [
    "# Testing all edge cases\n",
    "# query occurs in the middle\n",
    "tests.append({\n",
    "    'input': {\n",
    "        'cards': [13, 11, 10, 7, 4, 3, 1, 0],\n",
    "        'query': 1\n",
    "        },\n",
    "    'output': 6\n",
    "})"
   ]
  },
  {
   "cell_type": "code",
   "execution_count": 12,
   "id": "86587c83-e09d-4778-a212-60bedba5c264",
   "metadata": {},
   "outputs": [],
   "source": [
    "# query is the first element\n",
    "tests.append({\n",
    "    'input': {\n",
    "        'cards': [4, 2, 1, -1],\n",
    "        'query': 4\n",
    "        },\n",
    "    'output': 0\n",
    "})"
   ]
  },
  {
   "cell_type": "code",
   "execution_count": 14,
   "id": "359c421a-51d7-48d6-84e6-34f932701fc3",
   "metadata": {},
   "outputs": [],
   "source": [
    "# query is the last element\n",
    "tests.append({\n",
    "    'input': {\n",
    "        'cards': [3, -1, -9, 127],\n",
    "        'query': -127\n",
    "        },\n",
    "    'output': 3\n",
    "})"
   ]
  },
  {
   "cell_type": "code",
   "execution_count": 15,
   "id": "5da4f6de-bc39-47ef-b6f1-a71c3289f067",
   "metadata": {},
   "outputs": [],
   "source": [
    "# cards contains just one element, query\n",
    "tests.append({\n",
    "    'input': {\n",
    "        'cards': [6],\n",
    "        'query': 6\n",
    "        },\n",
    "    'output': 0\n",
    "})"
   ]
  },
  {
   "cell_type": "code",
   "execution_count": 16,
   "id": "db907ce7-4cbd-4037-9919-cc6aae8e89b8",
   "metadata": {},
   "outputs": [],
   "source": [
    "# cards does not contain query\n",
    "tests.append({\n",
    "    'input': {\n",
    "        'cards': [9, 7, 5, 2, -9],\n",
    "        'query': 4\n",
    "        },\n",
    "    'output': -1\n",
    "})"
   ]
  },
  {
   "cell_type": "code",
   "execution_count": 17,
   "id": "eccde254-8ca9-464e-8410-ce9414e98230",
   "metadata": {},
   "outputs": [],
   "source": [
    "# cards is empty\n",
    "tests.append({\n",
    "    'input': {\n",
    "        'cards': [],\n",
    "        'query': 7\n",
    "        },\n",
    "    'output': -1\n",
    "})"
   ]
  },
  {
   "cell_type": "code",
   "execution_count": 18,
   "id": "871a93e9-bdd4-4479-8aaf-c3b2720d3281",
   "metadata": {},
   "outputs": [],
   "source": [
    "# numbers can repeat in cards\n",
    "tests.append({\n",
    "    'input': {\n",
    "        'cards': [8, 8, 6, 6, 6, 6, 6, 6, 6, 3, 2, 2, 2, 0, 0, 0],\n",
    "        'query': 3\n",
    "        },\n",
    "    'output': 7\n",
    "})"
   ]
  },
  {
   "cell_type": "code",
   "execution_count": 19,
   "id": "ab5ac5d2-9adc-47b5-ac85-e2026de7004d",
   "metadata": {},
   "outputs": [],
   "source": [
    "# query occurs multiple times\n",
    "tests.append({\n",
    "    'input': {\n",
    "        'cards': [8, 8, 6, 6, 6, 6, 6, 6, 6, 3, 2, 2, 2, 0, 0, 0],\n",
    "        'query': 6\n",
    "        },\n",
    "    'output': 2\n",
    "})"
   ]
  },
  {
   "cell_type": "code",
   "execution_count": 20,
   "id": "b49faa11-a98d-4aaa-8699-e45dd720bb69",
   "metadata": {},
   "outputs": [
    {
     "data": {
      "text/plain": [
       "[{'input': {'cards': [13, 11, 10, 7, 4, 3, 1, 0], 'query': 7}, 'output': 3},\n",
       " {'input': {'cards': [13, 11, 10, 7, 4, 3, 1, 0], 'query': 1}, 'output': 6},\n",
       " {'input': {'cards': [4, 2, 1, -1], 'query': 4}, 'output': 0},\n",
       " {'input': {'cards': [3, -1, -9, 127], 'query': -127}, 'output': 3},\n",
       " {'input': {'cards': [3, -1, -9, 127], 'query': -127}, 'output': 3},\n",
       " {'input': {'cards': [6], 'query': 6}, 'output': 0},\n",
       " {'input': {'cards': [9, 7, 5, 2, -9], 'query': 4}, 'output': -1},\n",
       " {'input': {'cards': [], 'query': 7}, 'output': -1},\n",
       " {'input': {'cards': [8, 8, 6, 6, 6, 6, 6, 6, 6, 3, 2, 2, 2, 0, 0, 0],\n",
       "   'query': 3},\n",
       "  'output': 7},\n",
       " {'input': {'cards': [8, 8, 6, 6, 6, 6, 6, 6, 6, 3, 2, 2, 2, 0, 0, 0],\n",
       "   'query': 6},\n",
       "  'output': 2}]"
      ]
     },
     "execution_count": 20,
     "metadata": {},
     "output_type": "execute_result"
    }
   ],
   "source": [
    "tests"
   ]
  },
  {
   "cell_type": "code",
   "execution_count": 21,
   "id": "d4ff24e1-54c8-4637-ad7f-3fb4825e5e01",
   "metadata": {},
   "outputs": [],
   "source": [
    "def locate_cards(cards, query):\n",
    "    # Create a variable position with the value 0\n",
    "    position = 0\n",
    "\n",
    "    # Set up a loop for repetition\n",
    "    while True:\n",
    "\n",
    "        # Check if element at the current position matches the query\n",
    "        if cards[position] == query:\n",
    "\n",
    "            # Answer found! Return and exit...\n",
    "            return position\n",
    "\n",
    "        # Increment the position\n",
    "        position += 1\n",
    "\n",
    "        # Check if we have reached the end of the array\n",
    "        if position == len(cards):\n",
    "\n",
    "            # Number not found return -1\n",
    "            return -1"
   ]
  },
  {
   "cell_type": "code",
   "execution_count": 22,
   "id": "0d729f4a-5721-4b6f-bff0-6d797082ecc9",
   "metadata": {},
   "outputs": [
    {
     "data": {
      "text/plain": [
       "3"
      ]
     },
     "execution_count": 22,
     "metadata": {},
     "output_type": "execute_result"
    }
   ],
   "source": [
    "# Testing first test case\n",
    "result = locate_cards(test['input']['cards'], test['input']['query'])\n",
    "result"
   ]
  },
  {
   "cell_type": "code",
   "execution_count": 23,
   "id": "f9962c5f-e4e7-4602-abf5-ed395fbcde2b",
   "metadata": {},
   "outputs": [
    {
     "data": {
      "text/plain": [
       "True"
      ]
     },
     "execution_count": 23,
     "metadata": {},
     "output_type": "execute_result"
    }
   ],
   "source": [
    "result == output # They match"
   ]
  },
  {
   "cell_type": "code",
   "execution_count": 24,
   "id": "5fb1e105-5089-49d9-9365-d08e79877f62",
   "metadata": {},
   "outputs": [],
   "source": [
    "!pip install jovian --upgrade --quiet"
   ]
  },
  {
   "cell_type": "code",
   "execution_count": 25,
   "id": "33e6c619-83e9-432a-9c4b-12541005c195",
   "metadata": {},
   "outputs": [
    {
     "data": {
      "application/javascript": [
       "if (window.IPython && IPython.notebook.kernel) IPython.notebook.kernel.execute('jovian.utils.jupyter.get_notebook_name_saved = lambda: \"' + IPython.notebook.notebook_name + '\"')"
      ],
      "text/plain": [
       "<IPython.core.display.Javascript object>"
      ]
     },
     "metadata": {},
     "output_type": "display_data"
    }
   ],
   "source": [
    "from jovian.pythondsa import evaluate_test_case"
   ]
  },
  {
   "cell_type": "code",
   "execution_count": 27,
   "id": "2f421d74-8668-4f7a-aebc-d76e38ed606c",
   "metadata": {},
   "outputs": [
    {
     "name": "stdout",
     "output_type": "stream",
     "text": [
      "\n",
      "Input:\n",
      "{'cards': [13, 11, 10, 7, 4, 3, 1, 0], 'query': 7}\n",
      "\n",
      "Expected Output:\n",
      "3\n",
      "\n",
      "\n",
      "Actual Output:\n",
      "3\n",
      "\n",
      "Execution Time:\n",
      "0.003 ms\n",
      "\n",
      "Test Result:\n",
      "\u001b[92mPASSED\u001b[0m\n",
      "\n"
     ]
    },
    {
     "data": {
      "text/plain": [
       "(3, True, 0.003)"
      ]
     },
     "execution_count": 27,
     "metadata": {},
     "output_type": "execute_result"
    }
   ],
   "source": [
    "evaluate_test_case(locate_cards, test)"
   ]
  },
  {
   "cell_type": "code",
   "execution_count": 28,
   "id": "fc516eb7-7228-4dae-8128-ae7045010aa2",
   "metadata": {},
   "outputs": [],
   "source": [
    "from jovian.pythondsa import evaluate_test_cases # For a list of test cases"
   ]
  },
  {
   "cell_type": "code",
   "execution_count": 29,
   "id": "e03e2745-d25a-4a6c-8fad-ff9491fdad30",
   "metadata": {},
   "outputs": [
    {
     "name": "stdout",
     "output_type": "stream",
     "text": [
      "\n",
      "\u001b[1mTEST CASE #0\u001b[0m\n",
      "\n",
      "Input:\n",
      "{'cards': [13, 11, 10, 7, 4, 3, 1, 0], 'query': 7}\n",
      "\n",
      "Expected Output:\n",
      "3\n",
      "\n",
      "\n",
      "Actual Output:\n",
      "3\n",
      "\n",
      "Execution Time:\n",
      "0.003 ms\n",
      "\n",
      "Test Result:\n",
      "\u001b[92mPASSED\u001b[0m\n",
      "\n",
      "\n",
      "\u001b[1mTEST CASE #1\u001b[0m\n",
      "\n",
      "Input:\n",
      "{'cards': [13, 11, 10, 7, 4, 3, 1, 0], 'query': 1}\n",
      "\n",
      "Expected Output:\n",
      "6\n",
      "\n",
      "\n",
      "Actual Output:\n",
      "6\n",
      "\n",
      "Execution Time:\n",
      "0.002 ms\n",
      "\n",
      "Test Result:\n",
      "\u001b[92mPASSED\u001b[0m\n",
      "\n",
      "\n",
      "\u001b[1mTEST CASE #2\u001b[0m\n",
      "\n",
      "Input:\n",
      "{'cards': [4, 2, 1, -1], 'query': 4}\n",
      "\n",
      "Expected Output:\n",
      "0\n",
      "\n",
      "\n",
      "Actual Output:\n",
      "0\n",
      "\n",
      "Execution Time:\n",
      "0.001 ms\n",
      "\n",
      "Test Result:\n",
      "\u001b[92mPASSED\u001b[0m\n",
      "\n",
      "\n",
      "\u001b[1mTEST CASE #3\u001b[0m\n",
      "\n",
      "Input:\n",
      "{'cards': [3, -1, -9, 127], 'query': -127}\n",
      "\n",
      "Expected Output:\n",
      "3\n",
      "\n",
      "\n",
      "Actual Output:\n",
      "-1\n",
      "\n",
      "Execution Time:\n",
      "0.002 ms\n",
      "\n",
      "Test Result:\n",
      "\u001b[91mFAILED\u001b[0m\n",
      "\n",
      "\n",
      "\u001b[1mTEST CASE #4\u001b[0m\n",
      "\n",
      "Input:\n",
      "{'cards': [3, -1, -9, 127], 'query': -127}\n",
      "\n",
      "Expected Output:\n",
      "3\n",
      "\n",
      "\n",
      "Actual Output:\n",
      "-1\n",
      "\n",
      "Execution Time:\n",
      "0.002 ms\n",
      "\n",
      "Test Result:\n",
      "\u001b[91mFAILED\u001b[0m\n",
      "\n",
      "\n",
      "\u001b[1mTEST CASE #5\u001b[0m\n",
      "\n",
      "Input:\n",
      "{'cards': [6], 'query': 6}\n",
      "\n",
      "Expected Output:\n",
      "0\n",
      "\n",
      "\n",
      "Actual Output:\n",
      "0\n",
      "\n",
      "Execution Time:\n",
      "0.001 ms\n",
      "\n",
      "Test Result:\n",
      "\u001b[92mPASSED\u001b[0m\n",
      "\n",
      "\n",
      "\u001b[1mTEST CASE #6\u001b[0m\n",
      "\n",
      "Input:\n",
      "{'cards': [9, 7, 5, 2, -9], 'query': 4}\n",
      "\n",
      "Expected Output:\n",
      "-1\n",
      "\n",
      "\n",
      "Actual Output:\n",
      "-1\n",
      "\n",
      "Execution Time:\n",
      "0.001 ms\n",
      "\n",
      "Test Result:\n",
      "\u001b[92mPASSED\u001b[0m\n",
      "\n",
      "\n",
      "\u001b[1mTEST CASE #7\u001b[0m\n"
     ]
    },
    {
     "ename": "IndexError",
     "evalue": "list index out of range",
     "output_type": "error",
     "traceback": [
      "\u001b[0;31m---------------------------------------------------------------------------\u001b[0m",
      "\u001b[0;31mIndexError\u001b[0m                                Traceback (most recent call last)",
      "Cell \u001b[0;32mIn[29], line 1\u001b[0m\n\u001b[0;32m----> 1\u001b[0m evaluate_test_cases(locate_cards, tests)\n",
      "File \u001b[0;32m~/anaconda3/lib/python3.12/site-packages/jovian/pythondsa/__init__.py:87\u001b[0m, in \u001b[0;36mevaluate_test_cases\u001b[0;34m(function, test_cases, error_only, summary_only)\u001b[0m\n\u001b[1;32m     85\u001b[0m \u001b[38;5;28;01mif\u001b[39;00m \u001b[38;5;129;01mnot\u001b[39;00m error_only:\n\u001b[1;32m     86\u001b[0m     \u001b[38;5;28mprint\u001b[39m(\u001b[38;5;124m\"\u001b[39m\u001b[38;5;130;01m\\n\u001b[39;00m\u001b[38;5;130;01m\\033\u001b[39;00m\u001b[38;5;124m[1mTEST CASE #\u001b[39m\u001b[38;5;132;01m{}\u001b[39;00m\u001b[38;5;130;01m\\033\u001b[39;00m\u001b[38;5;124m[0m\u001b[39m\u001b[38;5;124m\"\u001b[39m\u001b[38;5;241m.\u001b[39mformat(i))\n\u001b[0;32m---> 87\u001b[0m result \u001b[38;5;241m=\u001b[39m evaluate_test_case(function, test_case, display\u001b[38;5;241m=\u001b[39m\u001b[38;5;28;01mFalse\u001b[39;00m)\n\u001b[1;32m     88\u001b[0m results\u001b[38;5;241m.\u001b[39mappend(result)\n\u001b[1;32m     89\u001b[0m \u001b[38;5;28;01mif\u001b[39;00m error_only \u001b[38;5;129;01mand\u001b[39;00m \u001b[38;5;129;01mnot\u001b[39;00m result[\u001b[38;5;241m1\u001b[39m]:\n",
      "File \u001b[0;32m~/anaconda3/lib/python3.12/site-packages/jovian/pythondsa/__init__.py:65\u001b[0m, in \u001b[0;36mevaluate_test_case\u001b[0;34m(function, test_case, display)\u001b[0m\n\u001b[1;32m     62\u001b[0m     _show_test_case(test_case)\n\u001b[1;32m     64\u001b[0m start \u001b[38;5;241m=\u001b[39m timer()\n\u001b[0;32m---> 65\u001b[0m actual_output \u001b[38;5;241m=\u001b[39m function(\u001b[38;5;241m*\u001b[39m\u001b[38;5;241m*\u001b[39minputs)\n\u001b[1;32m     66\u001b[0m end \u001b[38;5;241m=\u001b[39m timer()\n\u001b[1;32m     68\u001b[0m runtime \u001b[38;5;241m=\u001b[39m math\u001b[38;5;241m.\u001b[39mceil((end \u001b[38;5;241m-\u001b[39m start)\u001b[38;5;241m*\u001b[39m\u001b[38;5;241m1e6\u001b[39m)\u001b[38;5;241m/\u001b[39m\u001b[38;5;241m1000\u001b[39m\n",
      "Cell \u001b[0;32mIn[21], line 9\u001b[0m, in \u001b[0;36mlocate_cards\u001b[0;34m(cards, query)\u001b[0m\n\u001b[1;32m      5\u001b[0m \u001b[38;5;66;03m# Set up a loop for repetition\u001b[39;00m\n\u001b[1;32m      6\u001b[0m \u001b[38;5;28;01mwhile\u001b[39;00m \u001b[38;5;28;01mTrue\u001b[39;00m:\n\u001b[1;32m      7\u001b[0m \n\u001b[1;32m      8\u001b[0m     \u001b[38;5;66;03m# Check if element at the current position matches the query\u001b[39;00m\n\u001b[0;32m----> 9\u001b[0m     \u001b[38;5;28;01mif\u001b[39;00m cards[position] \u001b[38;5;241m==\u001b[39m query:\n\u001b[1;32m     10\u001b[0m \n\u001b[1;32m     11\u001b[0m         \u001b[38;5;66;03m# Answer found! Return and exit...\u001b[39;00m\n\u001b[1;32m     12\u001b[0m         \u001b[38;5;28;01mreturn\u001b[39;00m position\n\u001b[1;32m     14\u001b[0m     \u001b[38;5;66;03m# Increment the position\u001b[39;00m\n",
      "\u001b[0;31mIndexError\u001b[0m: list index out of range"
     ]
    }
   ],
   "source": [
    "evaluate_test_cases(locate_cards, tests)"
   ]
  },
  {
   "cell_type": "markdown",
   "id": "39376618-20a2-4b40-b1bc-c42834332c23",
   "metadata": {
    "jp-MarkdownHeadingCollapsed": true
   },
   "source": [
    "## Complexity and Big O Notation"
   ]
  },
  {
   "cell_type": "markdown",
   "id": "1ed057d0-7968-4b17-8387-968c29afc5ba",
   "metadata": {},
   "source": [
    "> **Complexity** of an algorithm is a measure of the amount of time and/or space required by and algorithm for an input of a given size e.g. `N`. Unless otherwise stated, the term *complexity* always refer to the worst-case complexity (i.e. the highest possible time/space taken by the program/algorithm to process an input).\n",
    "\n",
    "In the case of linear search:\n",
    "1. The *time complexity* of the algorithm is `cN` for some fixed constant `c` that depends on the number of operations we perform in each iteration and the time taken to execute a statement. Time complexity is sometimes also called the *running time* of the algorithm.\n",
    "2. The *space complexity* is come constant `c` (independent of `N`), since we just need a single vairable `position` to iterate through the array, and it occupies a constant space in the computer's memory (RAM).\n",
    "\n",
    "> **Big O**: Worst-case complexity is often expressed using the Big O notation. In the Big O, we drop fixed constants and lower powers of variables to capture the trend of relationship between the size of the input and the complexity of the algorithm i.e. if the complexity of the algorithm is `cN^3 + cN^2 + eN + f`, in the Big O Notation it is expressed as **O(N^3)**."
   ]
  },
  {
   "cell_type": "markdown",
   "id": "28c2b0b3-f3ee-43dc-bf23-d1ca5529cb4b",
   "metadata": {},
   "source": [
    "## Apply the right technique to overcome inefficiency"
   ]
  },
  {
   "cell_type": "markdown",
   "id": "e2d7fca7-322b-4b2a-9177-5a3a6381808e",
   "metadata": {},
   "source": [
    "Here's how binary search can be applied to our problem:\n",
    "\n",
    "1. Find the middle element of the list.\n",
    "2. If it matches queried number, return the middle position as the answer.\n",
    "3. If it is less than the queried number, then search the first half of the list\n",
    "4. If it is greater than the queried number, then search the second half of the list\n",
    "5. If no more elements remain, return -1."
   ]
  },
  {
   "attachments": {
    "8e765f41-3aef-4639-8269-d8aaaff0fd72.png": {
     "image/png": "[encoded data removed]"
    }
   },
   "cell_type": "markdown",
   "id": "9957f06b-94b9-441c-ad62-fc5e410e616b",
   "metadata": {},
   "source": [
    "![image.png](attachment:8e765f41-3aef-4639-8269-d8aaaff0fd72.png)"
   ]
  },
  {
   "cell_type": "code",
   "execution_count": 1,
   "id": "c455f364-0e4d-4f80-9c5b-528963546a52",
   "metadata": {},
   "outputs": [],
   "source": [
    "def test_location(cards, query, mid):\n",
    "    mid_numer = cards[mid]\n",
    "    print(\"mid: \", mid, \", mid_number: \", mid_number)\n",
    "    if mid_number == query:\n",
    "        if mid-1 >= 0 and cards[mid-1] == query:\n",
    "            return 'left'\n",
    "        else:\n",
    "            return 'found'\n",
    "    elif mid_number < query:\n",
    "        return 'left'\n",
    "    else:\n",
    "        return 'right'\n",
    "\n",
    "def locate_card(cards, query):\n",
    "    lo, hi = 0, len(cards) - 1\n",
    "\n",
    "    while lo <= hi:\n",
    "        mid = (lo + hi) // 2\n",
    "        mid_number = cards[mid]\n",
    "\n",
    "        print(\"lo: \", lo, \", hi: \", hi, \", mid: \", mid, \", mid_number: \", mid_number)\n",
    "\n",
    "        if mid_number == query:\n",
    "            return mid\n",
    "        elif mid_number < query:\n",
    "            hi = mid - 1\n",
    "        elif mid_number > query:\n",
    "            lo = mid + 1\n",
    "\n",
    "    return -1"
   ]
  },
  {
   "cell_type": "code",
   "execution_count": 4,
   "id": "fa2729f1-c236-4bfe-8f05-647cfda733d4",
   "metadata": {},
   "outputs": [
    {
     "data": {
      "application/javascript": [
       "if (window.IPython && IPython.notebook.kernel) IPython.notebook.kernel.execute('jovian.utils.jupyter.get_notebook_name_saved = lambda: \"' + IPython.notebook.notebook_name + '\"')"
      ],
      "text/plain": [
       "<IPython.core.display.Javascript object>"
      ]
     },
     "metadata": {},
     "output_type": "display_data"
    }
   ],
   "source": [
    "from jovian.pythondsa import evaluate_test_cases # For a list of test cases"
   ]
  },
  {
   "cell_type": "code",
   "execution_count": 7,
   "id": "1c3b6439-8bde-4d2e-ba53-82d21b433930",
   "metadata": {},
   "outputs": [],
   "source": [
    "tests = [{'input': {'cards': [13, 11, 10, 7, 4, 3, 1, 0], 'query': 7}, 'output': 3},\n",
    " {'input': {'cards': [13, 11, 10, 7, 4, 3, 1, 0], 'query': 1}, 'output': 6},\n",
    " {'input': {'cards': [4, 2, 1, -1], 'query': 4}, 'output': 0},\n",
    " {'input': {'cards': [3, -1, -9, 127], 'query': -127}, 'output': 3},\n",
    " {'input': {'cards': [3, -1, -9, 127], 'query': -127}, 'output': 3},\n",
    " {'input': {'cards': [6], 'query': 6}, 'output': 0},\n",
    " {'input': {'cards': [9, 7, 5, 2, -9], 'query': 4}, 'output': -1},\n",
    " {'input': {'cards': [], 'query': 7}, 'output': -1},\n",
    " {'input': {'cards': [8, 8, 6, 6, 6, 6, 6, 6, 6, 3, 2, 2, 2, 0, 0, 0],\n",
    "   'query': 3},\n",
    "  'output': 7},\n",
    " {'input': {'cards': [8, 8, 6, 6, 6, 6, 6, 6, 6, 3, 2, 2, 2, 0, 0, 0],\n",
    "   'query': 6},\n",
    "  'output': 2}]"
   ]
  },
  {
   "cell_type": "code",
   "execution_count": 8,
   "id": "b82bb8f3-6111-453b-ad30-f81e6b3e7fdc",
   "metadata": {},
   "outputs": [
    {
     "name": "stdout",
     "output_type": "stream",
     "text": [
      "\n",
      "\u001b[1mTEST CASE #0\u001b[0m\n",
      "lo:  0 , hi:  7 , mid:  3 , mid_number:  7\n",
      "\n",
      "Input:\n",
      "{'cards': [13, 11, 10, 7, 4, 3, 1, 0], 'query': 7}\n",
      "\n",
      "Expected Output:\n",
      "3\n",
      "\n",
      "\n",
      "Actual Output:\n",
      "3\n",
      "\n",
      "Execution Time:\n",
      "0.088 ms\n",
      "\n",
      "Test Result:\n",
      "\u001b[92mPASSED\u001b[0m\n",
      "\n",
      "\n",
      "\u001b[1mTEST CASE #1\u001b[0m\n",
      "lo:  0 , hi:  7 , mid:  3 , mid_number:  7\n",
      "lo:  4 , hi:  7 , mid:  5 , mid_number:  3\n",
      "lo:  6 , hi:  7 , mid:  6 , mid_number:  1\n",
      "\n",
      "Input:\n",
      "{'cards': [13, 11, 10, 7, 4, 3, 1, 0], 'query': 1}\n",
      "\n",
      "Expected Output:\n",
      "6\n",
      "\n",
      "\n",
      "Actual Output:\n",
      "6\n",
      "\n",
      "Execution Time:\n",
      "0.211 ms\n",
      "\n",
      "Test Result:\n",
      "\u001b[92mPASSED\u001b[0m\n",
      "\n",
      "\n",
      "\u001b[1mTEST CASE #2\u001b[0m\n",
      "lo:  0 , hi:  3 , mid:  1 , mid_number:  2\n",
      "lo:  0 , hi:  0 , mid:  0 , mid_number:  4\n",
      "\n",
      "Input:\n",
      "{'cards': [4, 2, 1, -1], 'query': 4}\n",
      "\n",
      "Expected Output:\n",
      "0\n",
      "\n",
      "\n",
      "Actual Output:\n",
      "0\n",
      "\n",
      "Execution Time:\n",
      "0.187 ms\n",
      "\n",
      "Test Result:\n",
      "\u001b[92mPASSED\u001b[0m\n",
      "\n",
      "\n",
      "\u001b[1mTEST CASE #3\u001b[0m\n",
      "lo:  0 , hi:  3 , mid:  1 , mid_number:  -1\n",
      "lo:  2 , hi:  3 , mid:  2 , mid_number:  -9\n",
      "lo:  3 , hi:  3 , mid:  3 , mid_number:  127\n",
      "\n",
      "Input:\n",
      "{'cards': [3, -1, -9, 127], 'query': -127}\n",
      "\n",
      "Expected Output:\n",
      "3\n",
      "\n",
      "\n",
      "Actual Output:\n",
      "-1\n",
      "\n",
      "Execution Time:\n",
      "0.21 ms\n",
      "\n",
      "Test Result:\n",
      "\u001b[91mFAILED\u001b[0m\n",
      "\n",
      "\n",
      "\u001b[1mTEST CASE #4\u001b[0m\n",
      "lo:  0 , hi:  3 , mid:  1 , mid_number:  -1\n",
      "lo:  2 , hi:  3 , mid:  2 , mid_number:  -9\n",
      "lo:  3 , hi:  3 , mid:  3 , mid_number:  127\n",
      "\n",
      "Input:\n",
      "{'cards': [3, -1, -9, 127], 'query': -127}\n",
      "\n",
      "Expected Output:\n",
      "3\n",
      "\n",
      "\n",
      "Actual Output:\n",
      "-1\n",
      "\n",
      "Execution Time:\n",
      "0.204 ms\n",
      "\n",
      "Test Result:\n",
      "\u001b[91mFAILED\u001b[0m\n",
      "\n",
      "\n",
      "\u001b[1mTEST CASE #5\u001b[0m\n",
      "lo:  0 , hi:  0 , mid:  0 , mid_number:  6\n",
      "\n",
      "Input:\n",
      "{'cards': [6], 'query': 6}\n",
      "\n",
      "Expected Output:\n",
      "0\n",
      "\n",
      "\n",
      "Actual Output:\n",
      "0\n",
      "\n",
      "Execution Time:\n",
      "0.07 ms\n",
      "\n",
      "Test Result:\n",
      "\u001b[92mPASSED\u001b[0m\n",
      "\n",
      "\n",
      "\u001b[1mTEST CASE #6\u001b[0m\n",
      "lo:  0 , hi:  4 , mid:  2 , mid_number:  5\n",
      "lo:  3 , hi:  4 , mid:  3 , mid_number:  2\n",
      "\n",
      "Input:\n",
      "{'cards': [9, 7, 5, 2, -9], 'query': 4}\n",
      "\n",
      "Expected Output:\n",
      "-1\n",
      "\n",
      "\n",
      "Actual Output:\n",
      "-1\n",
      "\n",
      "Execution Time:\n",
      "0.188 ms\n",
      "\n",
      "Test Result:\n",
      "\u001b[92mPASSED\u001b[0m\n",
      "\n",
      "\n",
      "\u001b[1mTEST CASE #7\u001b[0m\n",
      "\n",
      "Input:\n",
      "{'cards': [], 'query': 7}\n",
      "\n",
      "Expected Output:\n",
      "-1\n",
      "\n",
      "\n",
      "Actual Output:\n",
      "-1\n",
      "\n",
      "Execution Time:\n",
      "0.003 ms\n",
      "\n",
      "Test Result:\n",
      "\u001b[92mPASSED\u001b[0m\n",
      "\n",
      "\n",
      "\u001b[1mTEST CASE #8\u001b[0m\n",
      "lo:  0 , hi:  15 , mid:  7 , mid_number:  6\n",
      "lo:  8 , hi:  15 , mid:  11 , mid_number:  2\n",
      "lo:  8 , hi:  10 , mid:  9 , mid_number:  3\n",
      "\n",
      "Input:\n",
      "{'cards': [8, 8, 6, 6, 6, 6, 6, 6, 6, 3, 2, 2, 2, 0, 0, 0], 'query': 3}\n",
      "\n",
      "Expected Output:\n",
      "7\n",
      "\n",
      "\n",
      "Actual Output:\n",
      "9\n",
      "\n",
      "Execution Time:\n",
      "0.204 ms\n",
      "\n",
      "Test Result:\n",
      "\u001b[91mFAILED\u001b[0m\n",
      "\n",
      "\n",
      "\u001b[1mTEST CASE #9\u001b[0m\n",
      "lo:  0 , hi:  15 , mid:  7 , mid_number:  6\n",
      "\n",
      "Input:\n",
      "{'cards': [8, 8, 6, 6, 6, 6, 6, 6, 6, 3, 2, 2, 2, 0, 0, 0], 'query': 6}\n",
      "\n",
      "Expected Output:\n",
      "2\n",
      "\n",
      "\n",
      "Actual Output:\n",
      "7\n",
      "\n",
      "Execution Time:\n",
      "0.069 ms\n",
      "\n",
      "Test Result:\n",
      "\u001b[91mFAILED\u001b[0m\n",
      "\n",
      "\n",
      "\u001b[1mSUMMARY\u001b[0m\n",
      "\n",
      "TOTAL: 10, \u001b[92mPASSED\u001b[0m: 6, \u001b[91mFAILED\u001b[0m: 4\n"
     ]
    },
    {
     "data": {
      "text/plain": [
       "[(3, True, 0.088),\n",
       " (6, True, 0.211),\n",
       " (0, True, 0.187),\n",
       " (-1, False, 0.21),\n",
       " (-1, False, 0.204),\n",
       " (0, True, 0.07),\n",
       " (-1, True, 0.188),\n",
       " (-1, True, 0.003),\n",
       " (9, False, 0.204),\n",
       " (7, False, 0.069)]"
      ]
     },
     "execution_count": 8,
     "metadata": {},
     "output_type": "execute_result"
    }
   ],
   "source": [
    "evaluate_test_cases(locate_card, tests)"
   ]
  },
  {
   "cell_type": "markdown",
   "id": "6d64ccd3-d690-4e29-ad28-38bb42664e13",
   "metadata": {},
   "source": [
    "Binary search algorithm can only work if the list is already sorted either in ascending or descending order. If not it will fail."
   ]
  },
  {
   "cell_type": "code",
   "execution_count": null,
   "id": "1102de8f-7890-4dd0-a116-1ce1e6f65ca3",
   "metadata": {},
   "outputs": [],
   "source": []
  }
 ],
 "metadata": {
  "kernelspec": {
   "display_name": "Python 3 (ipykernel)",
   "language": "python",
   "name": "python3"
  },
  "language_info": {
   "codemirror_mode": {
    "name": "ipython",
    "version": 3
   },
   "file_extension": ".py",
   "mimetype": "text/x-python",
   "name": "python",
   "nbconvert_exporter": "python",
   "pygments_lexer": "ipython3",
   "version": "3.12.7"
  }
 },
 "nbformat": 4,
 "nbformat_minor": 5
}
